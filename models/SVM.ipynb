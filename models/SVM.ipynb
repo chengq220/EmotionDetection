{
 "cells": [
  {
   "cell_type": "code",
   "execution_count": 34,
   "id": "4dee31bb",
   "metadata": {},
   "outputs": [
    {
     "ename": "KeyboardInterrupt",
     "evalue": "",
     "output_type": "error",
     "traceback": [
      "\u001b[1;31m---------------------------------------------------------------------------\u001b[0m",
      "\u001b[1;31mKeyboardInterrupt\u001b[0m                         Traceback (most recent call last)",
      "Cell \u001b[1;32mIn[34], line 24\u001b[0m\n\u001b[0;32m     21\u001b[0m train_labels \u001b[38;5;241m=\u001b[39m []\n\u001b[0;32m     23\u001b[0m \u001b[38;5;28;01mfor\u001b[39;00m index, row \u001b[38;5;129;01min\u001b[39;00m train_df\u001b[38;5;241m.\u001b[39miterrows():\n\u001b[1;32m---> 24\u001b[0m     image \u001b[38;5;241m=\u001b[39m \u001b[43mImage\u001b[49m\u001b[38;5;241;43m.\u001b[39;49m\u001b[43mopen\u001b[49m\u001b[43m(\u001b[49m\u001b[43mrow\u001b[49m\u001b[43m[\u001b[49m\u001b[38;5;124;43m'\u001b[39;49m\u001b[38;5;124;43mtrainSet\u001b[39;49m\u001b[38;5;124;43m'\u001b[39;49m\u001b[43m]\u001b[49m\u001b[43m)\u001b[49m\n\u001b[0;32m     25\u001b[0m     grayscale_image \u001b[38;5;241m=\u001b[39m image\u001b[38;5;241m.\u001b[39mconvert(\u001b[38;5;124m\"\u001b[39m\u001b[38;5;124mL\u001b[39m\u001b[38;5;124m\"\u001b[39m)\n\u001b[0;32m     26\u001b[0m     grayscale_array \u001b[38;5;241m=\u001b[39m \u001b[38;5;28mlist\u001b[39m(grayscale_image\u001b[38;5;241m.\u001b[39mgetdata())\n",
      "File \u001b[1;32mc:\\Users\\wal62\\OneDrive\\Desktop\\Machine Learning\\EmotionDetection\\.venv\\Lib\\site-packages\\PIL\\Image.py:3247\u001b[0m, in \u001b[0;36mopen\u001b[1;34m(fp, mode, formats)\u001b[0m\n\u001b[0;32m   3244\u001b[0m     filename \u001b[38;5;241m=\u001b[39m fp\n\u001b[0;32m   3246\u001b[0m \u001b[38;5;28;01mif\u001b[39;00m filename:\n\u001b[1;32m-> 3247\u001b[0m     fp \u001b[38;5;241m=\u001b[39m \u001b[43mbuiltins\u001b[49m\u001b[38;5;241;43m.\u001b[39;49m\u001b[43mopen\u001b[49m\u001b[43m(\u001b[49m\u001b[43mfilename\u001b[49m\u001b[43m,\u001b[49m\u001b[43m \u001b[49m\u001b[38;5;124;43m\"\u001b[39;49m\u001b[38;5;124;43mrb\u001b[39;49m\u001b[38;5;124;43m\"\u001b[39;49m\u001b[43m)\u001b[49m\n\u001b[0;32m   3248\u001b[0m     exclusive_fp \u001b[38;5;241m=\u001b[39m \u001b[38;5;28;01mTrue\u001b[39;00m\n\u001b[0;32m   3250\u001b[0m \u001b[38;5;28;01mtry\u001b[39;00m:\n",
      "\u001b[1;31mKeyboardInterrupt\u001b[0m: "
     ]
    }
   ],
   "source": [
    "import numpy as np\n",
    "import pandas as pd\n",
    "import matplotlib.pyplot as plt\n",
    "from PIL import Image\n",
    "from sklearn.svm import SVC\n",
    "from sklearn.decomposition import PCA as RandomizedPCA\n",
    "from sklearn.pipeline import make_pipeline\n",
    "from sklearn.metrics import accuracy_score\n",
    "from sklearn.model_selection import train_test_split\n",
    "from sklearn.metrics import f1_score\n",
    "\n",
    "\n",
    "# Load training data from CSV\n",
    "train_df = pd.read_csv(\"datasets/train_data.csv\") # Replace with your own path to train_data.csv\n",
    "\n",
    "# Load testing data from CSV\n",
    "test_df = pd.read_csv(\"datasets/test_data.csv\") # Replace with your own path to test_data.csv\n",
    "\n",
    "# Load images and labels from training data\n",
    "train_images = []\n",
    "train_labels = []\n",
    "\n",
    "for index, row in train_df.iterrows():\n",
    "    image = Image.open(row['trainSet'])\n",
    "    grayscale_image = image.convert(\"L\")\n",
    "    grayscale_array = list(grayscale_image.getdata())\n",
    "    train_images.append(grayscale_array)\n",
    "    train_labels.append(row['trainLabel'])\n",
    "\n",
    "train_images = np.array(train_images)\n",
    "\n",
    "# Label mapping\n",
    "d = {'angry':0, 'disgust':1, 'fear':2, 'happy':3, 'neutral':4, 'sad':5, 'surprise':6}\n",
    "train_labels = [d[x] for x in train_labels]\n",
    "\n",
    "print(train_labels)\n",
    "# label_encoder = LabelEncoder()\n",
    "# train_labels = label_encoder.fit_transform(train_labels)\n",
    "\n",
    "# Load images and labels from testing data\n",
    "test_images = []\n",
    "test_labels = []\n",
    "\n",
    "for index, row in test_df.iterrows():\n",
    "    image = Image.open(row['testSet'])\n",
    "    grayscale_image = image.convert(\"L\")\n",
    "    grayscale_array = list(grayscale_image.getdata())\n",
    "    test_images.append(grayscale_array)\n",
    "    test_labels.append(row['testLabel'])\n",
    "\n",
    "test_images = np.array(test_images)\n",
    "\n",
    "# Label mapping for test labels\n",
    "test_labels = [d[x] for x in test_labels]\n",
    "\n",
    "pca = RandomizedPCA(n_components=150, whiten=True, random_state=42)\n",
    "svc = SVC(kernel='rbf', class_weight='balanced')\n",
    "model = make_pipeline(pca, svc)\n",
    "model.fit(train_images, train_labels)\n",
    "\n",
    "predictions = model.predict(test_images)\n",
    "\n",
    "# Accuracy\n",
    "acc = accuracy_score(predictions, test_labels)\n",
    "print(acc)\n",
    "\n",
    "# F1 Score\n",
    "f1 = f1_score(test_labels, predictions, average='weighted') \n",
    "print(f1)"
   ]
  },
  {
   "cell_type": "code",
   "execution_count": 42,
   "id": "0051ed19",
   "metadata": {},
   "outputs": [
    {
     "name": "stdout",
     "output_type": "stream",
     "text": [
      "                                                testSet testLabel Prediction\n",
      "0     datasets/processedDataset/test/angry/PrivateTe...     angry        sad\n",
      "1     datasets/processedDataset/test/angry/PrivateTe...     angry      angry\n",
      "2     datasets/processedDataset/test/angry/PrivateTe...     angry      happy\n",
      "3     datasets/processedDataset/test/angry/PrivateTe...     angry      happy\n",
      "4     datasets/processedDataset/test/angry/PrivateTe...     angry      angry\n",
      "...                                                 ...       ...        ...\n",
      "4957  datasets/processedDataset/test/surprise/Public...  surprise   surprise\n",
      "4958  datasets/processedDataset/test/surprise/Public...  surprise    neutral\n",
      "4959  datasets/processedDataset/test/surprise/Public...  surprise    neutral\n",
      "4960  datasets/processedDataset/test/surprise/Public...  surprise   surprise\n",
      "4961  datasets/processedDataset/test/surprise/Public...  surprise   surprise\n",
      "\n",
      "[4962 rows x 3 columns]\n"
     ]
    }
   ],
   "source": [
    "d2 = {0:'angry', 1:'disgust', 2:'fear', 3:'happy', 4:'neutral', 5:'sad', 6:'surprise'}\n",
    "df_results = test_df.assign(Prediction=[d2[x] for x in predictions])\n",
    "print(df_results)"
   ]
  },
  {
   "cell_type": "code",
   "execution_count": 39,
   "id": "0b9bd31b",
   "metadata": {},
   "outputs": [
    {
     "name": "stdout",
     "output_type": "stream",
     "text": [
      "              precision    recall  f1-score   support\n",
      "\n",
      "           0       0.37      0.29      0.33       823\n",
      "           1       0.48      0.57      0.52        72\n",
      "           2       0.31      0.39      0.34       514\n",
      "           3       0.44      0.52      0.47      1158\n",
      "           4       0.39      0.38      0.39       958\n",
      "           5       0.33      0.29      0.31       772\n",
      "           6       0.64      0.59      0.61       665\n",
      "\n",
      "    accuracy                           0.42      4962\n",
      "   macro avg       0.42      0.43      0.43      4962\n",
      "weighted avg       0.42      0.42      0.41      4962\n",
      "\n"
     ]
    }
   ],
   "source": [
    "from sklearn.metrics import classification_report\n",
    "\n",
    "print(classification_report(predictions, test_labels, digits=2))"
   ]
  },
  {
   "cell_type": "code",
   "execution_count": 52,
   "id": "057c61e3",
   "metadata": {},
   "outputs": [
    {
     "name": "stdout",
     "output_type": "stream",
     "text": [
      "Actual: Angry     Prediction: Sad\n"
     ]
    },
    {
     "data": {
      "image/png": "[encoded data removed]",
      "text/plain": [
       "<Figure size 640x480 with 1 Axes>"
      ]
     },
     "metadata": {},
     "output_type": "display_data"
    }
   ],
   "source": [
    "image = Image.open('datasets/processedDataset/test/angry/PrivateTest_1054527_N95.jpg')\n",
    "grayscale_image = image.convert(\"L\")\n",
    "# display(grayscale_image)\n",
    "plt.imshow(grayscale_image, cmap='gray', vmin=0, vmax=255)\n",
    "print(\"Actual: Angry     Prediction: Sad\")"
   ]
  }
 ],
 "metadata": {
  "kernelspec": {
   "display_name": "Python 3 (ipykernel)",
   "language": "python",
   "name": "python3"
  },
  "language_info": {
   "codemirror_mode": {
    "name": "ipython",
    "version": 3
   },
   "file_extension": ".py",
   "mimetype": "text/x-python",
   "name": "python",
   "nbconvert_exporter": "python",
   "pygments_lexer": "ipython3",
   "version": "3.12.0"
  }
 },
 "nbformat": 4,
 "nbformat_minor": 5
}
